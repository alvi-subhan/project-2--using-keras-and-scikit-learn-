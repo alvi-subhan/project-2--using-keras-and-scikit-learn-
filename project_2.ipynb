{
  "nbformat": 4,
  "nbformat_minor": 0,
  "metadata": {
    "colab": {
      "name": "project 2.ipynb",
      "version": "0.3.2",
      "views": {},
      "default_view": {},
      "provenance": []
    }
  },
  "cells": [
    {
      "metadata": {
        "id": "b9-d1EAE4ALx",
        "colab_type": "text"
      },
      "cell_type": "markdown",
      "source": [
        "**Step 1. Project Description**\n",
        "In this project, we will use the standard machine-learning problem called the iris flowers dataset:\n",
        "\n",
        "http://archive.ics.uci.edu/ml/datasets/Iris \n",
        "\n",
        "This dataset is well studied and is a good problem for practicing on neural networks because all of the 4 input variables are numeric and have the same scale in centimeters. Each instance describes the properties of an observed flower measurements and the output variable is specific iris species.\n",
        "\n",
        "This is a multi-class classification problem, meaning that there are more than two classes to be predicted, in fact there are three flower species. This is an important type of problem on which to practice with neural networks because the three class values require specialized handling.\n",
        "\n",
        "The iris flower dataset is a well-studied problem and as such we can expect to achieve model accuracy in the range of 95% to 97%. This provides a good target to aim for when developing our models in this project.\n"
      ]
    },
    {
      "metadata": {
        "id": "cawI7XbY4UR6",
        "colab_type": "text"
      },
      "cell_type": "markdown",
      "source": [
        "**Step 2. Making Preparations**\n",
        "We will start off by importing all of the classes and functions we will need. This includes both the functionality we require from Keras, but also data loading from pandas as well as data preparation and model evaluation from scikit-learn:"
      ]
    },
    {
      "metadata": {
        "id": "oCnzIJRys9Hh",
        "colab_type": "code",
        "colab": {
          "autoexec": {
            "startup": false,
            "wait_interval": 0
          },
          "base_uri": "https://localhost:8080/",
          "height": 35
        },
        "outputId": "20ba715a-03ca-40cd-9207-173b71509f83",
        "executionInfo": {
          "status": "ok",
          "timestamp": 1530893866235,
          "user_tz": -300,
          "elapsed": 3341,
          "user": {
            "displayName": "subhan alvi",
            "photoUrl": "https://lh3.googleusercontent.com/a/default-user=s128",
            "userId": "113587175888217063825"
          }
        }
      },
      "cell_type": "code",
      "source": [
        "import numpy\n",
        "import pandas\n",
        "from keras.models import Sequential\n",
        "from keras.layers import Dense\n",
        "from keras.wrappers.scikit_learn import KerasClassifier\n",
        "from sklearn.model_selection import cross_val_score\n",
        "from sklearn.preprocessing import LabelEncoder\n",
        "from sklearn.model_selection import StratifiedKFold\n",
        "from sklearn.preprocessing import StandardScaler\n",
        "from sklearn.pipeline import Pipeline\n",
        "from sklearn import preprocessing\n",
        "from keras.utils import np_utils\n",
        "\n",
        "# fix random seed for reproducibility\n",
        "seed = 7\n",
        "numpy.random.seed(seed)\n",
        "\n"
      ],
      "execution_count": 1,
      "outputs": [
        {
          "output_type": "stream",
          "text": [
            "Using TensorFlow backend.\n"
          ],
          "name": "stderr"
        }
      ]
    },
    {
      "metadata": {
        "id": "2F249dirtRzV",
        "colab_type": "code",
        "colab": {
          "autoexec": {
            "startup": false,
            "wait_interval": 0
          },
          "base_uri": "https://localhost:8080/",
          "height": 73
        },
        "outputId": "b1682301-0fcf-430f-e757-7bff92759b75",
        "executionInfo": {
          "status": "ok",
          "timestamp": 1530893880889,
          "user_tz": -300,
          "elapsed": 13521,
          "user": {
            "displayName": "subhan alvi",
            "photoUrl": "https://lh3.googleusercontent.com/a/default-user=s128",
            "userId": "113587175888217063825"
          }
        }
      },
      "cell_type": "code",
      "source": [
        "#uploading csv file\n",
        "\n",
        "from google.colab import files\n",
        "uploaded = files.upload()"
      ],
      "execution_count": 2,
      "outputs": [
        {
          "output_type": "display_data",
          "data": {
            "text/plain": [
              "<IPython.core.display.HTML object>"
            ],
            "text/html": [
              "\n",
              "     <input type=\"file\" id=\"files-ce0bc5d7-df1a-4aa9-8835-68e320f62617\" name=\"files[]\" multiple disabled />\n",
              "     <output id=\"result-ce0bc5d7-df1a-4aa9-8835-68e320f62617\">\n",
              "      Upload widget is only available when the cell has been executed in the\n",
              "      current browser session. Please rerun this cell to enable.\n",
              "      </output>\n",
              "      <script src=\"/nbextensions/google.colab/files.js\"></script> "
            ]
          },
          "metadata": {
            "tags": []
          }
        },
        {
          "output_type": "stream",
          "text": [
            "Saving iris.csv to iris.csv\n"
          ],
          "name": "stdout"
        }
      ]
    },
    {
      "metadata": {
        "id": "Nmf6Fjy4thSg",
        "colab_type": "code",
        "colab": {
          "autoexec": {
            "startup": false,
            "wait_interval": 0
          },
          "base_uri": "https://localhost:8080/",
          "height": 17
        },
        "outputId": "1bf6b605-7a76-4847-ed0a-50a817cca203",
        "executionInfo": {
          "status": "ok",
          "timestamp": 1530893885418,
          "user_tz": -300,
          "elapsed": 1267,
          "user": {
            "displayName": "subhan alvi",
            "photoUrl": "https://lh3.googleusercontent.com/a/default-user=s128",
            "userId": "113587175888217063825"
          }
        }
      },
      "cell_type": "code",
      "source": [
        "#Importing file\n",
        "\n",
        "import io\n",
        "data = io.BytesIO(uploaded['iris.csv'])"
      ],
      "execution_count": 3,
      "outputs": []
    },
    {
      "metadata": {
        "id": "-63nem8HtmAS",
        "colab_type": "code",
        "colab": {
          "autoexec": {
            "startup": false,
            "wait_interval": 0
          },
          "base_uri": "https://localhost:8080/",
          "height": 17
        },
        "outputId": "2fc45040-e351-4dfe-cb1d-7bfdeef68ade",
        "executionInfo": {
          "status": "ok",
          "timestamp": 1530893887466,
          "user_tz": -300,
          "elapsed": 1137,
          "user": {
            "displayName": "subhan alvi",
            "photoUrl": "https://lh3.googleusercontent.com/a/default-user=s128",
            "userId": "113587175888217063825"
          }
        }
      },
      "cell_type": "code",
      "source": [
        "# load dataset\n",
        "dataframe = pandas.read_csv(\"iris.csv\", header=None)\n",
        "dataset = dataframe.values\n",
        "X = dataset[:,0:4].astype(float)\n",
        "Y = dataset[:,4]"
      ],
      "execution_count": 4,
      "outputs": []
    },
    {
      "metadata": {
        "id": "nTl9cN1_5cRu",
        "colab_type": "code",
        "colab": {
          "autoexec": {
            "startup": false,
            "wait_interval": 0
          },
          "base_uri": "https://localhost:8080/",
          "height": 288
        },
        "outputId": "84f1d4ae-dc7e-4e36-fc53-e2a5bba3801f",
        "executionInfo": {
          "status": "ok",
          "timestamp": 1530893888694,
          "user_tz": -300,
          "elapsed": 1048,
          "user": {
            "displayName": "subhan alvi",
            "photoUrl": "https://lh3.googleusercontent.com/a/default-user=s128",
            "userId": "113587175888217063825"
          }
        }
      },
      "cell_type": "code",
      "source": [
        "dataframe[:8]"
      ],
      "execution_count": 5,
      "outputs": [
        {
          "output_type": "execute_result",
          "data": {
            "text/html": [
              "<div>\n",
              "<style scoped>\n",
              "    .dataframe tbody tr th:only-of-type {\n",
              "        vertical-align: middle;\n",
              "    }\n",
              "\n",
              "    .dataframe tbody tr th {\n",
              "        vertical-align: top;\n",
              "    }\n",
              "\n",
              "    .dataframe thead th {\n",
              "        text-align: right;\n",
              "    }\n",
              "</style>\n",
              "<table border=\"1\" class=\"dataframe\">\n",
              "  <thead>\n",
              "    <tr style=\"text-align: right;\">\n",
              "      <th></th>\n",
              "      <th>0</th>\n",
              "      <th>1</th>\n",
              "      <th>2</th>\n",
              "      <th>3</th>\n",
              "      <th>4</th>\n",
              "    </tr>\n",
              "  </thead>\n",
              "  <tbody>\n",
              "    <tr>\n",
              "      <th>0</th>\n",
              "      <td>5.1</td>\n",
              "      <td>3.5</td>\n",
              "      <td>1.4</td>\n",
              "      <td>0.2</td>\n",
              "      <td>Iris-setosa</td>\n",
              "    </tr>\n",
              "    <tr>\n",
              "      <th>1</th>\n",
              "      <td>4.9</td>\n",
              "      <td>3.0</td>\n",
              "      <td>1.4</td>\n",
              "      <td>0.2</td>\n",
              "      <td>Iris-setosa</td>\n",
              "    </tr>\n",
              "    <tr>\n",
              "      <th>2</th>\n",
              "      <td>4.7</td>\n",
              "      <td>3.2</td>\n",
              "      <td>1.3</td>\n",
              "      <td>0.2</td>\n",
              "      <td>Iris-setosa</td>\n",
              "    </tr>\n",
              "    <tr>\n",
              "      <th>3</th>\n",
              "      <td>4.6</td>\n",
              "      <td>3.1</td>\n",
              "      <td>1.5</td>\n",
              "      <td>0.2</td>\n",
              "      <td>Iris-setosa</td>\n",
              "    </tr>\n",
              "    <tr>\n",
              "      <th>4</th>\n",
              "      <td>5.0</td>\n",
              "      <td>3.6</td>\n",
              "      <td>1.4</td>\n",
              "      <td>0.2</td>\n",
              "      <td>Iris-setosa</td>\n",
              "    </tr>\n",
              "    <tr>\n",
              "      <th>5</th>\n",
              "      <td>5.4</td>\n",
              "      <td>3.9</td>\n",
              "      <td>1.7</td>\n",
              "      <td>0.4</td>\n",
              "      <td>Iris-setosa</td>\n",
              "    </tr>\n",
              "    <tr>\n",
              "      <th>6</th>\n",
              "      <td>4.6</td>\n",
              "      <td>3.4</td>\n",
              "      <td>1.4</td>\n",
              "      <td>0.3</td>\n",
              "      <td>Iris-setosa</td>\n",
              "    </tr>\n",
              "    <tr>\n",
              "      <th>7</th>\n",
              "      <td>5.0</td>\n",
              "      <td>3.4</td>\n",
              "      <td>1.5</td>\n",
              "      <td>0.2</td>\n",
              "      <td>Iris-setosa</td>\n",
              "    </tr>\n",
              "  </tbody>\n",
              "</table>\n",
              "</div>"
            ],
            "text/plain": [
              "     0    1    2    3            4\n",
              "0  5.1  3.5  1.4  0.2  Iris-setosa\n",
              "1  4.9  3.0  1.4  0.2  Iris-setosa\n",
              "2  4.7  3.2  1.3  0.2  Iris-setosa\n",
              "3  4.6  3.1  1.5  0.2  Iris-setosa\n",
              "4  5.0  3.6  1.4  0.2  Iris-setosa\n",
              "5  5.4  3.9  1.7  0.4  Iris-setosa\n",
              "6  4.6  3.4  1.4  0.3  Iris-setosa\n",
              "7  5.0  3.4  1.5  0.2  Iris-setosa"
            ]
          },
          "metadata": {
            "tags": []
          },
          "execution_count": 5
        }
      ]
    },
    {
      "metadata": {
        "id": "E2IeS5vktnoD",
        "colab_type": "code",
        "colab": {
          "autoexec": {
            "startup": false,
            "wait_interval": 0
          },
          "base_uri": "https://localhost:8080/",
          "height": 54
        },
        "outputId": "b491c831-4e59-43d4-dae1-56b804689246",
        "executionInfo": {
          "status": "ok",
          "timestamp": 1530893889903,
          "user_tz": -300,
          "elapsed": 1067,
          "user": {
            "displayName": "subhan alvi",
            "photoUrl": "https://lh3.googleusercontent.com/a/default-user=s128",
            "userId": "113587175888217063825"
          }
        }
      },
      "cell_type": "code",
      "source": [
        "print(X[7])\n",
        "Y[7]"
      ],
      "execution_count": 6,
      "outputs": [
        {
          "output_type": "stream",
          "text": [
            "[5.  3.4 1.5 0.2]\n"
          ],
          "name": "stdout"
        },
        {
          "output_type": "execute_result",
          "data": {
            "text/plain": [
              "'Iris-setosa'"
            ]
          },
          "metadata": {
            "tags": []
          },
          "execution_count": 6
        }
      ]
    },
    {
      "metadata": {
        "id": "uQfZASaZ5N2C",
        "colab_type": "code",
        "colab": {
          "autoexec": {
            "startup": false,
            "wait_interval": 0
          },
          "base_uri": "https://localhost:8080/",
          "height": 17
        },
        "outputId": "69913be9-c2a6-43bc-ad2b-acf1e2f14cfa",
        "executionInfo": {
          "status": "ok",
          "timestamp": 1530893891617,
          "user_tz": -300,
          "elapsed": 1220,
          "user": {
            "displayName": "subhan alvi",
            "photoUrl": "https://lh3.googleusercontent.com/a/default-user=s128",
            "userId": "113587175888217063825"
          }
        }
      },
      "cell_type": "code",
      "source": [
        "from keras.utils import np_utils\n",
        "\n",
        "# encode class values as integers\n",
        "encoder = LabelEncoder()\n",
        "encoder.fit(Y)\n",
        "encoded_Y = encoder.transform(Y)\n",
        "# convert integers to dummy variables (i.e. one hot encoded)\n",
        "dummy_y = np_utils.to_categorical(encoded_Y)\n"
      ],
      "execution_count": 7,
      "outputs": []
    },
    {
      "metadata": {
        "id": "r2R1CLeX6eFv",
        "colab_type": "code",
        "colab": {
          "autoexec": {
            "startup": false,
            "wait_interval": 0
          },
          "base_uri": "https://localhost:8080/",
          "height": 235
        },
        "outputId": "590d14ee-625b-4695-bb22-215312c9a528",
        "executionInfo": {
          "status": "ok",
          "timestamp": 1530893892830,
          "user_tz": -300,
          "elapsed": 1034,
          "user": {
            "displayName": "subhan alvi",
            "photoUrl": "https://lh3.googleusercontent.com/a/default-user=s128",
            "userId": "113587175888217063825"
          }
        }
      },
      "cell_type": "code",
      "source": [
        "print(encoded_Y)\n",
        "dummy_y[:7]"
      ],
      "execution_count": 8,
      "outputs": [
        {
          "output_type": "stream",
          "text": [
            "[0 0 0 0 0 0 0 0 0 0 0 0 0 0 0 0 0 0 0 0 0 0 0 0 0 0 0 0 0 0 0 0 0 0 0 0 0\n",
            " 0 0 0 0 0 0 0 0 0 0 0 0 0 1 1 1 1 1 1 1 1 1 1 1 1 1 1 1 1 1 1 1 1 1 1 1 1\n",
            " 1 1 1 1 1 1 1 1 1 1 1 1 1 1 1 1 1 1 1 1 1 1 1 1 1 1 2 2 2 2 2 2 2 2 2 2 2\n",
            " 2 2 2 2 2 2 2 2 2 2 2 2 2 2 2 2 2 2 2 2 2 2 2 2 2 2 2 2 2 2 2 2 2 2 2 2 2\n",
            " 2 2]\n"
          ],
          "name": "stdout"
        },
        {
          "output_type": "execute_result",
          "data": {
            "text/plain": [
              "array([[1., 0., 0.],\n",
              "       [1., 0., 0.],\n",
              "       [1., 0., 0.],\n",
              "       [1., 0., 0.],\n",
              "       [1., 0., 0.],\n",
              "       [1., 0., 0.],\n",
              "       [1., 0., 0.]], dtype=float32)"
            ]
          },
          "metadata": {
            "tags": []
          },
          "execution_count": 8
        }
      ]
    },
    {
      "metadata": {
        "id": "sHmHioqX7Td-",
        "colab_type": "text"
      },
      "cell_type": "markdown",
      "source": [
        "**Step 3: Define the Neural Network Baseline Model**"
      ]
    },
    {
      "metadata": {
        "id": "X5mFJOTl6t4v",
        "colab_type": "code",
        "colab": {
          "autoexec": {
            "startup": false,
            "wait_interval": 0
          },
          "base_uri": "https://localhost:8080/",
          "height": 17
        },
        "outputId": "32be1ac8-7944-4317-e64f-c535322f5b33",
        "executionInfo": {
          "status": "ok",
          "timestamp": 1530027757475,
          "user_tz": -300,
          "elapsed": 663,
          "user": {
            "displayName": "subhan alvi",
            "photoUrl": "https://lh3.googleusercontent.com/a/default-user=s128",
            "userId": "113587175888217063825"
          }
        }
      },
      "cell_type": "code",
      "source": [
        "# baseline model\n",
        "\n",
        "def baseline_model():\n",
        "#creating a model\n",
        "    \n",
        "    model=Sequential()\n",
        "    model.add(Dense(8, activation='relu', input_shape=(4,)))\n",
        "    model.add(Dense(3, activation='softmax'))\n",
        "    \n",
        "    #compiling it\n",
        "    model.compile(optimizer='adam',\n",
        "              loss='categorical_crossentropy',\n",
        "              metrics=['accuracy'])\n",
        "    return model\n"
      ],
      "execution_count": 12,
      "outputs": []
    },
    {
      "metadata": {
        "id": "Qm9BbP7m8B2_",
        "colab_type": "code",
        "colab": {
          "autoexec": {
            "startup": false,
            "wait_interval": 0
          },
          "base_uri": "https://localhost:8080/",
          "height": 17
        },
        "outputId": "bd62d493-c5f4-43db-873c-c9d22a2cffe9",
        "executionInfo": {
          "status": "ok",
          "timestamp": 1530027798559,
          "user_tz": -300,
          "elapsed": 862,
          "user": {
            "displayName": "subhan alvi",
            "photoUrl": "https://lh3.googleusercontent.com/a/default-user=s128",
            "userId": "113587175888217063825"
          }
        }
      },
      "cell_type": "code",
      "source": [
        "# evaluate model with standardized dataset\n",
        "\n",
        "estimator = KerasClassifier(build_fn=baseline_model, epochs=200, batch_size=5, verbose=0)\n"
      ],
      "execution_count": 14,
      "outputs": []
    },
    {
      "metadata": {
        "id": "GET8bqQT94a1",
        "colab_type": "text"
      },
      "cell_type": "markdown",
      "source": [
        "**Step 4. Evaluate The Model with k-Fold Cross Validation**"
      ]
    },
    {
      "metadata": {
        "id": "FK8SIxIN8JzC",
        "colab_type": "code",
        "colab": {
          "autoexec": {
            "startup": false,
            "wait_interval": 0
          },
          "base_uri": "https://localhost:8080/",
          "height": 34
        },
        "outputId": "d8b68f8a-ce03-4182-fca1-17985bbf98d2",
        "executionInfo": {
          "status": "ok",
          "timestamp": 1530027871562,
          "user_tz": -300,
          "elapsed": 62557,
          "user": {
            "displayName": "subhan alvi",
            "photoUrl": "https://lh3.googleusercontent.com/a/default-user=s128",
            "userId": "113587175888217063825"
          }
        }
      },
      "cell_type": "code",
      "source": [
        "from sklearn.model_selection import KFold\n",
        "\n",
        "kfold = KFold(n_splits=10, shuffle=True, random_state=seed)\n",
        "\n",
        "results = cross_val_score(estimator, X, dummy_y, cv=kfold)\n",
        "print(\"Baseline: %.2f%% (%.2f%%)\" % (results.mean()*100, results.std()*100))"
      ],
      "execution_count": 15,
      "outputs": [
        {
          "output_type": "stream",
          "text": [
            "Baseline: 97.33% (4.42%)\n"
          ],
          "name": "stdout"
        }
      ]
    },
    {
      "metadata": {
        "id": "SOZ91Zo3DzcD",
        "colab_type": "text"
      },
      "cell_type": "markdown",
      "source": [
        "**Step 5. Tuning Layers and Number of Neurons in The Model**"
      ]
    },
    {
      "metadata": {
        "id": "gCj9hLJ-8S2L",
        "colab_type": "code",
        "colab": {
          "autoexec": {
            "startup": false,
            "wait_interval": 0
          }
        }
      },
      "cell_type": "code",
      "source": [
        "#Step 5.1. Evaluate a Smaller Network\n",
        "\n",
        "# smaller model\n",
        "\n",
        "def smaller_model():\n",
        "#creating a model\n",
        "    \n",
        "    model=Sequential()\n",
        "    model.add(Dense(4, activation='relu', input_shape=(4,)))\n",
        "    model.add(Dense(3, activation='softmax'))\n",
        "    \n",
        "    #compiling it\n",
        "    model.compile(optimizer='adam',\n",
        "              loss='categorical_crossentropy',\n",
        "              metrics=['accuracy'])\n",
        "    return model\n"
      ],
      "execution_count": 0,
      "outputs": []
    },
    {
      "metadata": {
        "id": "FjO7eiSNEeUB",
        "colab_type": "code",
        "colab": {
          "autoexec": {
            "startup": false,
            "wait_interval": 0
          },
          "base_uri": "https://localhost:8080/",
          "height": 34
        },
        "outputId": "8b8e9f14-3340-4fb1-e99d-7adc279ac438",
        "executionInfo": {
          "status": "ok",
          "timestamp": 1529932485057,
          "user_tz": -300,
          "elapsed": 89667,
          "user": {
            "displayName": "subhan alvi",
            "photoUrl": "https://lh3.googleusercontent.com/a/default-user=s128",
            "userId": "113587175888217063825"
          }
        }
      },
      "cell_type": "code",
      "source": [
        "estimator = KerasClassifier(build_fn=create_baseline, epochs=200, batch_size=5, verbose=0)\n",
        "\n",
        "kfold = KFold(n_splits=10, shuffle=True, random_state=seed)\n",
        "\n",
        "results = cross_val_score(estimator, X, dummy_y, cv=kfold)\n",
        "print(\"Baseline: %.2f%% (%.2f%%)\" % (results.mean()*100, results.std()*100))"
      ],
      "execution_count": 39,
      "outputs": [
        {
          "output_type": "stream",
          "text": [
            "Baseline: 96.67% (4.47%)\n"
          ],
          "name": "stdout"
        }
      ]
    },
    {
      "metadata": {
        "id": "toXLjUgiEjea",
        "colab_type": "code",
        "colab": {
          "autoexec": {
            "startup": false,
            "wait_interval": 0
          },
          "base_uri": "https://localhost:8080/",
          "height": 17
        },
        "outputId": "323a32c0-0a98-428e-c908-c8e3aa52b250",
        "executionInfo": {
          "status": "ok",
          "timestamp": 1529932942675,
          "user_tz": -300,
          "elapsed": 1243,
          "user": {
            "displayName": "subhan alvi",
            "photoUrl": "https://lh3.googleusercontent.com/a/default-user=s128",
            "userId": "113587175888217063825"
          }
        }
      },
      "cell_type": "code",
      "source": [
        "#Step 5.2. Evaluate a Larger Network\n",
        "\n",
        "# larger model\n",
        "\n",
        "def larger_model():\n",
        "#creating a model\n",
        "    \n",
        "    model=Sequential()\n",
        "    model.add(Dense(16, activation='relu', input_shape=(4,)))\n",
        "    model.add(Dense(8, activation='relu'))\n",
        "    model.add(Dense(3, activation='softmax'))\n",
        "    \n",
        "    #compiling it\n",
        "    model.compile(optimizer='adam',\n",
        "              loss='categorical_crossentropy',\n",
        "              metrics=['accuracy'])\n",
        "    return model\n"
      ],
      "execution_count": 41,
      "outputs": []
    },
    {
      "metadata": {
        "id": "nFbPvlGgG6LK",
        "colab_type": "code",
        "colab": {
          "autoexec": {
            "startup": false,
            "wait_interval": 0
          },
          "base_uri": "https://localhost:8080/",
          "height": 34
        },
        "outputId": "0551fac1-f628-4f64-867b-f93055aec756",
        "executionInfo": {
          "status": "ok",
          "timestamp": 1529933120257,
          "user_tz": -300,
          "elapsed": 109969,
          "user": {
            "displayName": "subhan alvi",
            "photoUrl": "https://lh3.googleusercontent.com/a/default-user=s128",
            "userId": "113587175888217063825"
          }
        }
      },
      "cell_type": "code",
      "source": [
        "estimator = KerasClassifier(build_fn=larger_model, epochs=200, batch_size=5, verbose=0)\n",
        "\n",
        "kfold = KFold(n_splits=10, shuffle=True, random_state=seed)\n",
        "\n",
        "results = cross_val_score(estimator, X, dummy_y, cv=kfold)\n",
        "print(\"Larger: %.2f%% (%.2f%%)\" % (results.mean()*100, results.std()*100))"
      ],
      "execution_count": 42,
      "outputs": [
        {
          "output_type": "stream",
          "text": [
            "Larger: 96.00% (4.42%)\n"
          ],
          "name": "stdout"
        }
      ]
    },
    {
      "metadata": {
        "id": "lfYDRaTWL8Z7",
        "colab_type": "text"
      },
      "cell_type": "markdown",
      "source": [
        "**Step 6. Really Scaling up: developing a model that overfits**"
      ]
    },
    {
      "metadata": {
        "id": "K01Ivm7rHRNb",
        "colab_type": "code",
        "colab": {
          "autoexec": {
            "startup": false,
            "wait_interval": 0
          },
          "base_uri": "https://localhost:8080/",
          "height": 17
        },
        "outputId": "2d93d05d-3fab-4520-a4f1-a70cd355c484",
        "executionInfo": {
          "status": "ok",
          "timestamp": 1530309948610,
          "user_tz": -300,
          "elapsed": 68664,
          "user": {
            "displayName": "subhan alvi",
            "photoUrl": "https://lh3.googleusercontent.com/a/default-user=s128",
            "userId": "113587175888217063825"
          }
        }
      },
      "cell_type": "code",
      "source": [
        "val_loss=[]\n",
        "train_loss=[]\n",
        "acc=[]\n",
        "val_acc=[]\n",
        "np.random.seed(seed)\n",
        "num_of_epochs=200\n",
        "def model_define():\n",
        "    model=Sequential()\n",
        "    model.add(Dense(8,activation='relu',input_shape=(4,)))\n",
        "    model.add(Dense(3,activation='softmax'))\n",
        "    model.compile(loss='categorical_crossentropy',optimizer='adam',metrics=[\"accuracy\"])\n",
        "    return model\n",
        "skf=StratifiedKFold(n_splits=10,shuffle=True, random_state=seed)  \"\"\"this whole thing is for binary and multiclass and we cant give continous values in it\"\"\"\n",
        "skf.get_n_splits(X,encoded_Y)\n",
        "for train_index , test_index in skf.split(X, encoded_Y):\n",
        "    model=model_define()\n",
        "    history=model.fit(X[train_index],dummy_y[train_index],epochs=num_of_epochs,batch_size=5,verbose=0, \n",
        "                     validation_data=(X[test_index],dummy_y[test_index]))\n",
        "    val_loss.append(history.history['val_loss'])\n",
        "    train_loss.append(history.history['loss'])\n",
        "    acc.append(history.history['acc'])\n",
        "\n",
        "    val_acc.append(history.history['val_acc'])"
      ],
      "execution_count": 12,
      "outputs": []
    },
    {
      "metadata": {
        "id": "77YEXjJ0rGEA",
        "colab_type": "code",
        "colab": {
          "autoexec": {
            "startup": false,
            "wait_interval": 0
          },
          "base_uri": "https://localhost:8080/",
          "height": 34
        },
        "outputId": "af1b9566-2be1-4a42-e62e-2ce0a828db1b",
        "executionInfo": {
          "status": "ok",
          "timestamp": 1530311647576,
          "user_tz": -300,
          "elapsed": 11200,
          "user": {
            "displayName": "subhan alvi",
            "photoUrl": "https://lh3.googleusercontent.com/a/default-user=s128",
            "userId": "113587175888217063825"
          }
        }
      },
      "cell_type": "code",
      "source": [
        "\"\"\"https://docs.scipy.org/doc/numpy/reference/generated/numpy.mean.html\"\"\"\n",
        "\n",
        "print(\"validation accuracy=\",np.mean(np.mean(val_acc,axis=1)))"
      ],
      "execution_count": 21,
      "outputs": [
        {
          "output_type": "stream",
          "text": [
            "('validation accuracy=', 0.9220666685377557)\n"
          ],
          "name": "stdout"
        }
      ]
    },
    {
      "metadata": {
        "id": "ObncsdJFnc8C",
        "colab_type": "code",
        "colab": {
          "autoexec": {
            "startup": false,
            "wait_interval": 0
          },
          "base_uri": "https://localhost:8080/",
          "height": 376
        },
        "outputId": "ef617534-cf59-40af-9bf4-4db47931a71c",
        "executionInfo": {
          "status": "ok",
          "timestamp": 1530312267266,
          "user_tz": -300,
          "elapsed": 1166,
          "user": {
            "displayName": "subhan alvi",
            "photoUrl": "https://lh3.googleusercontent.com/a/default-user=s128",
            "userId": "113587175888217063825"
          }
        }
      },
      "cell_type": "code",
      "source": [
        "import matplotlib.pyplot as plt\n",
        "\n",
        "epochs= range(1,201)\n",
        "\n",
        "# \"bo\" is for \"blue dot\"\n",
        "plt.plot(epochs, np.mean(val_acc,axis=0), 'b', label='validation accuray')\n",
        "# b is for \"solid blue line\"\n",
        "#plt.plot(epochs,np.mean(acc,axis=0), 'b', label='Validation loss')\n",
        "plt.title('validation accuracy')\n",
        "plt.xlabel('epochs')\n",
        "plt.ylabel('accuray')\n",
        "plt.legend()\n",
        "\n",
        "plt.show()"
      ],
      "execution_count": 32,
      "outputs": [
        {
          "output_type": "display_data",
          "data": {
            "image/png": "[encoded data removed]",
            "text/plain": [
              "<matplotlib.figure.Figure at 0x7f30e575b5d0>"
            ]
          },
          "metadata": {
            "tags": []
          }
        }
      ]
    },
    {
      "metadata": {
        "id": "9fPZbo9elrus",
        "colab_type": "code",
        "colab": {
          "autoexec": {
            "startup": false,
            "wait_interval": 0
          },
          "base_uri": "https://localhost:8080/",
          "height": 376
        },
        "outputId": "ed9f74f7-4e6d-42bb-dcc2-a582c312d587",
        "executionInfo": {
          "status": "ok",
          "timestamp": 1530312310436,
          "user_tz": -300,
          "elapsed": 952,
          "user": {
            "displayName": "subhan alvi",
            "photoUrl": "https://lh3.googleusercontent.com/a/default-user=s128",
            "userId": "113587175888217063825"
          }
        }
      },
      "cell_type": "code",
      "source": [
        "import matplotlib.pyplot as plt\n",
        "\n",
        "epochs= range(1,201)\n",
        "\n",
        "# \"bo\" is for \"blue dot\"\n",
        "plt.plot(epochs, np.mean(val_loss,axis=0), 'b', label='validation accuracy')\n",
        "# b is for \"solid blue line\"\n",
        "#plt.plot(epochs,np.mean(acc,axis=0), 'b', label='Validation loss')\n",
        "plt.title('validation loss')\n",
        "plt.xlabel('epochs')\n",
        "plt.ylabel('loss')\n",
        "plt.legend()\n",
        "\n",
        "plt.show()"
      ],
      "execution_count": 33,
      "outputs": [
        {
          "output_type": "display_data",
          "data": {
            "image/png": "[encoded data removed]",
            "text/plain": [
              "<matplotlib.figure.Figure at 0x7f30e56ed050>"
            ]
          },
          "metadata": {
            "tags": []
          }
        }
      ]
    },
    {
      "metadata": {
        "id": "Xh11UmIhwPa8",
        "colab_type": "text"
      },
      "cell_type": "markdown",
      "source": [
        "**100 EPOCHS SEEMS GOOD CHOICE **\n",
        "\n",
        "***Training our model at 100 epoch*** "
      ]
    },
    {
      "metadata": {
        "id": "tdlWr5-b1lbw",
        "colab_type": "text"
      },
      "cell_type": "markdown",
      "source": [
        "**Step 7. Tuning the Model**"
      ]
    },
    {
      "metadata": {
        "id": "o5Q8xVfHDNU5",
        "colab_type": "code",
        "colab": {
          "autoexec": {
            "startup": false,
            "wait_interval": 0
          },
          "base_uri": "https://localhost:8080/",
          "height": 17
        },
        "outputId": "3be65092-80c5-4272-f52f-fead0b082678",
        "executionInfo": {
          "status": "ok",
          "timestamp": 1530314340730,
          "user_tz": -300,
          "elapsed": 62062,
          "user": {
            "displayName": "subhan alvi",
            "photoUrl": "https://lh3.googleusercontent.com/a/default-user=s128",
            "userId": "113587175888217063825"
          }
        }
      },
      "cell_type": "code",
      "source": [
        "#tuned model\n",
        "\n",
        "val_loss=[]\n",
        "train_loss=[]\n",
        "acc=[]\n",
        "val_acc=[]\n",
        "np.random.seed(seed)\n",
        "num_of_epochs=100\n",
        "def tuned_model():\n",
        "    model=Sequential()\n",
        "    model.add(Dense(8,activation='relu',input_shape=(4,)))\n",
        "    model.add(Dense(3,activation='softmax'))\n",
        "    model.compile(loss='categorical_crossentropy',optimizer='adam',metrics=[\"accuracy\"])\n",
        "    return model\n",
        "skf=StratifiedKFold(n_splits=10,shuffle=True, random_state=seed)\n",
        "skf.get_n_splits(X,encoded_Y)\n",
        "for train_index , test_index in skf.split(X, encoded_Y):\n",
        "    model=tuned_model()\n",
        "    history=model.fit(X[train_index],dummy_y[train_index],epochs=num_of_epochs,batch_size=5,verbose=0,\n",
        "                     validation_data=(X[test_index],dummy_y[test_index]))\n",
        "    val_loss.append(history.history['val_loss'])\n",
        "    train_loss.append(history.history['loss'])\n",
        "    acc.append(history.history['acc'])\n",
        "\n",
        "    val_acc.append(history.history['val_acc'])"
      ],
      "execution_count": 41,
      "outputs": []
    },
    {
      "metadata": {
        "id": "sr-bNH2KLAWs",
        "colab_type": "code",
        "colab": {
          "autoexec": {
            "startup": false,
            "wait_interval": 0
          },
          "base_uri": "https://localhost:8080/",
          "height": 34
        },
        "outputId": "adf49e03-2fba-4279-d033-3dc8f3793c87",
        "executionInfo": {
          "status": "ok",
          "timestamp": 1530314376984,
          "user_tz": -300,
          "elapsed": 754,
          "user": {
            "displayName": "subhan alvi",
            "photoUrl": "https://lh3.googleusercontent.com/a/default-user=s128",
            "userId": "113587175888217063825"
          }
        }
      },
      "cell_type": "code",
      "source": [
        "\"\"\"https://docs.scipy.org/doc/numpy/reference/generated/numpy.mean.html\"\"\"\n",
        "\n",
        "print(\"validation accuracy=\",np.mean(np.mean(val_acc,axis=1)))"
      ],
      "execution_count": 42,
      "outputs": [
        {
          "output_type": "stream",
          "text": [
            "('validation accuracy=', 0.862466669778029)\n"
          ],
          "name": "stdout"
        }
      ]
    },
    {
      "metadata": {
        "id": "vG4AwfDk1xsu",
        "colab_type": "text"
      },
      "cell_type": "markdown",
      "source": [
        "**Step 8. Rewriting the code using the Keras Functional API**"
      ]
    },
    {
      "metadata": {
        "id": "wHLlitnk16Q6",
        "colab_type": "code",
        "colab": {
          "autoexec": {
            "startup": false,
            "wait_interval": 0
          },
          "base_uri": "https://localhost:8080/",
          "height": 34
        },
        "outputId": "96f13b97-e150-4bf0-b127-c813037a8b17",
        "executionInfo": {
          "status": "ok",
          "timestamp": 1530316227474,
          "user_tz": -300,
          "elapsed": 79762,
          "user": {
            "displayName": "subhan alvi",
            "photoUrl": "https://lh3.googleusercontent.com/a/default-user=s128",
            "userId": "113587175888217063825"
          }
        }
      },
      "cell_type": "code",
      "source": [
        "# functional API\n",
        "\n",
        "from sklearn.model_selection import KFold\n",
        "from keras.layers import Input, Dense\n",
        "from keras.models import Model\n",
        "\n",
        "def functional_api():\n",
        "  # This returns a tensor\n",
        "  inputs = Input(shape=(4,))\n",
        "\n",
        "  # a layer instance is callable on a tensor, and returns a tensor\n",
        "  x = Dense(8, activation='relu')(inputs)\n",
        "  predictions = Dense(3, activation='softmax')(x)\n",
        "\n",
        "  # This creates a model that includes\n",
        "  # the Input layer and three Dense layers\n",
        "  model = Model(inputs=inputs, outputs=predictions)\n",
        "  model.compile(optimizer='adam',\n",
        "              loss='categorical_crossentropy',\n",
        "              metrics=['accuracy'])\n",
        "  return model\n",
        "\n",
        "\n",
        "estimator = KerasClassifier(build_fn=functional_api, epochs=100, batch_size=5, verbose=0)\n",
        "\n",
        "kfold = KFold(n_splits=10, shuffle=True, random_state=seed)\n",
        "\n",
        "results = cross_val_score(estimator, X, dummy_y, cv=kfold)\n",
        "print(\"functional api model with 100 epoch: %.2f%% (%.2f%%)\" % (results.mean()*100, results.std()*100))\n",
        "\n"
      ],
      "execution_count": 52,
      "outputs": [
        {
          "output_type": "stream",
          "text": [
            "functional api model with 100 epoch: 95.33% (5.21%)\n"
          ],
          "name": "stdout"
        }
      ]
    },
    {
      "metadata": {
        "id": "QZ03UM8h82Hc",
        "colab_type": "code",
        "colab": {
          "autoexec": {
            "startup": false,
            "wait_interval": 0
          },
          "base_uri": "https://localhost:8080/",
          "height": 17
        },
        "outputId": "97325abb-dad3-4c36-c7fd-3b79c92f54ec",
        "executionInfo": {
          "status": "ok",
          "timestamp": 1530894365789,
          "user_tz": -300,
          "elapsed": 1267,
          "user": {
            "displayName": "subhan alvi",
            "photoUrl": "https://lh3.googleusercontent.com/a/default-user=s128",
            "userId": "113587175888217063825"
          }
        }
      },
      "cell_type": "code",
      "source": [
        "import keras\n",
        "from keras import layers\n",
        "from keras import models\n",
        "import tensorflow as tf\n",
        "\n",
        "\n",
        "class MyModel(tf. keras.Model):\n",
        "  def __init__(self):\n",
        "    super(MyModel,self).__init__()\n",
        "    self.dense1 = Dense(4, activation=\"relu\")\n",
        "    self.dense2 = Dense(8, activation='relu')\n",
        "    self.dense3 = Dense(3, activation='softmax')\n",
        "\n",
        "  def call(self,inputs):\n",
        "    x = self.dense1(inputs)\n",
        "    x = self.dense2(x)\n",
        "    return self.dense3(x)\n",
        "\n",
        "model=MyModel()\n",
        "model.compile(loss='categorical_crossentropy',optimizer='adam',metrics=['accuracy'])\n",
        "#return model\n",
        "\n",
        "#np.random.seed(seed)\n",
        "\n",
        "#hist=model.fit(X,dummy_y,epochs=4,batch_size=5)\n",
        "\n",
        "#estimator=KerasClassifier(build_fn=create_baseline_3,epochs=100,batch_size=5,verbose=0)\n",
        "#kfold=KFold(n_splits=10,random_state=seed,shuffle=True)\n",
        "#results=cross_val_score(estimator,X,dummy_y,cv=kfold)\n",
        "#print(\"model sub classing: %.2f%% (%.2f%%)\" % (results.mean()*100, results.std()*100))\n"
      ],
      "execution_count": 18,
      "outputs": []
    },
    {
      "metadata": {
        "id": "cQ70wTMj-kdC",
        "colab_type": "text"
      },
      "cell_type": "markdown",
      "source": [
        "**Step 10. Rewriting the code without using scikit-learn**"
      ]
    },
    {
      "metadata": {
        "id": "SRp5nw7M-qAW",
        "colab_type": "code",
        "colab": {
          "autoexec": {
            "startup": false,
            "wait_interval": 0
          },
          "base_uri": "https://localhost:8080/",
          "height": 0
        },
        "outputId": "216f4855-28fa-4479-b902-5a48d511cb3c",
        "executionInfo": {
          "status": "ok",
          "timestamp": 1530316999390,
          "user_tz": -300,
          "elapsed": 906,
          "user": {
            "displayName": "subhan alvi",
            "photoUrl": "https://lh3.googleusercontent.com/a/default-user=s128",
            "userId": "113587175888217063825"
          }
        }
      },
      "cell_type": "code",
      "source": [
        "def keras_only():\n",
        "#creating a model\n",
        "    \n",
        "    model=Sequential()\n",
        "    model.add(Dense(8, activation='relu', input_shape=(4,)))\n",
        "    model.add(Dense(3, activation='softmax'))\n",
        "    \n",
        "    #compiling it\n",
        "    model.compile(optimizer='adam',\n",
        "              loss='categorical_crossentropy',\n",
        "              metrics=['accuracy'])\n",
        "    return model\n"
      ],
      "execution_count": 57,
      "outputs": []
    },
    {
      "metadata": {
        "id": "QqD91p-N_f-W",
        "colab_type": "code",
        "colab": {
          "autoexec": {
            "startup": false,
            "wait_interval": 0
          },
          "base_uri": "https://localhost:8080/",
          "height": 191
        },
        "outputId": "10ce80b9-2560-42f7-eefa-0ba3729750e6",
        "executionInfo": {
          "status": "ok",
          "timestamp": 1530317361714,
          "user_tz": -300,
          "elapsed": 264868,
          "user": {
            "displayName": "subhan alvi",
            "photoUrl": "https://lh3.googleusercontent.com/a/default-user=s128",
            "userId": "113587175888217063825"
          }
        }
      },
      "cell_type": "code",
      "source": [
        "# k fold code\n",
        "\n",
        "import numpy as np\n",
        "k =10\n",
        "num_val_samples = len(X) // k\n",
        "num_epochs = 100\n",
        "all_scores = []\n",
        "\n",
        "#following lists have mean values at every k fold\n",
        "acc=[]\n",
        "loss=[]\n",
        "val_acc=[]\n",
        "val_loss=[]\n",
        "\n",
        "#following 2 lists have the accuracies for every epoch\n",
        "acc_epoch=[]\n",
        "val_acc_epoch=[]\n",
        "\n",
        "for i in range(k):\n",
        "  print('processing fold #', i)\n",
        "  val_data = X[i * num_val_samples: (i + 1) * num_val_samples]\n",
        "  val_targets = dummy_y[i * num_val_samples: (i + 1) * num_val_samples]\n",
        "  partial_train_data = np.concatenate(\n",
        "  [X[:i * num_val_samples],\n",
        "  X[(i + 1) * num_val_samples:]],\n",
        "  axis=0)\n",
        "  partial_train_targets = np.concatenate(\n",
        "  [dummy_y[:i * num_val_samples],\n",
        "  dummy_y[(i + 1) * num_val_samples:]],\n",
        "  axis=0)\n",
        "  model =keras_only()\n",
        "  hist=model.fit(partial_train_data, partial_train_targets,\n",
        "  epochs=num_epochs, batch_size=1,validation_data=(val_data,val_targets),verbose=0)\n",
        "  \n",
        "  #taking mean of acc and losses for plotting\n",
        "  acc.append(np.mean(hist.history[\"acc\"]))\n",
        "  loss.append(np.mean(hist.history[\"loss\"]))\n",
        "\n",
        "  val_acc.append(np.mean(hist.history[\"val_acc\"]))\n",
        "  val_loss.append(np.mean(hist.history[\"val_loss\"]))\n",
        "  \n",
        "  acc_epoch.append(hist.history[\"acc\"])\n",
        "  val_acc_epoch.append(hist.history[\"val_acc\"])\n",
        "  "
      ],
      "execution_count": 59,
      "outputs": [
        {
          "output_type": "stream",
          "text": [
            "('processing fold #', 0)\n",
            "('processing fold #', 1)\n",
            "('processing fold #', 2)\n",
            "('processing fold #', 3)\n",
            "('processing fold #', 4)\n",
            "('processing fold #', 5)\n",
            "('processing fold #', 6)\n",
            "('processing fold #', 7)\n",
            "('processing fold #', 8)\n",
            "('processing fold #', 9)\n"
          ],
          "name": "stdout"
        }
      ]
    },
    {
      "metadata": {
        "id": "JMESYEMwOLxL",
        "colab_type": "code",
        "colab": {
          "autoexec": {
            "startup": false,
            "wait_interval": 0
          },
          "base_uri": "https://localhost:8080/",
          "height": 17
        },
        "outputId": "b97b58d8-14f4-41a8-bf14-32d2e92d00b2",
        "executionInfo": {
          "status": "ok",
          "timestamp": 1530312441146,
          "user_tz": -300,
          "elapsed": 776,
          "user": {
            "displayName": "subhan alvi",
            "photoUrl": "https://lh3.googleusercontent.com/a/default-user=s128",
            "userId": "113587175888217063825"
          }
        }
      },
      "cell_type": "code",
      "source": [
        "#diff results at epochs \n",
        "#L.H.S=EPOCHS\n",
        "#R.H.S=VALIDATION ACCURACY\n",
        "\n",
        "\"\"\"65=78.26\n",
        "   75=84.52 \n",
        "   100=86.246\n",
        "\"\"\""
      ],
      "execution_count": 33,
      "outputs": []
    },
    {
      "metadata": {
        "id": "XEx0ofKLF9bn",
        "colab_type": "code",
        "colab": {
          "autoexec": {
            "startup": false,
            "wait_interval": 0
          },
          "base_uri": "https://localhost:8080/",
          "height": 17
        },
        "outputId": "83bcebb1-c8f7-4448-f268-95032fa63fe5",
        "executionInfo": {
          "status": "ok",
          "timestamp": 1530783638783,
          "user_tz": -300,
          "elapsed": 2000,
          "user": {
            "displayName": "subhan alvi",
            "photoUrl": "https://lh3.googleusercontent.com/a/default-user=s128",
            "userId": "113587175888217063825"
          }
        }
      },
      "cell_type": "code",
      "source": [
        ""
      ],
      "execution_count": 0,
      "outputs": []
    },
    {
      "metadata": {
        "id": "_xMh9MAXqs_J",
        "colab_type": "code",
        "colab": {
          "autoexec": {
            "startup": false,
            "wait_interval": 0
          },
          "base_uri": "https://localhost:8080/",
          "height": 17
        },
        "outputId": "970f9185-9d63-4409-db06-be90ce14ae60",
        "executionInfo": {
          "status": "ok",
          "timestamp": 1530783642675,
          "user_tz": -300,
          "elapsed": 787,
          "user": {
            "displayName": "subhan alvi",
            "photoUrl": "https://lh3.googleusercontent.com/a/default-user=s128",
            "userId": "113587175888217063825"
          }
        }
      },
      "cell_type": "code",
      "source": [
        ""
      ],
      "execution_count": 0,
      "outputs": []
    },
    {
      "metadata": {
        "id": "1xnL_qb5qwL_",
        "colab_type": "code",
        "colab": {
          "autoexec": {
            "startup": false,
            "wait_interval": 0
          }
        }
      },
      "cell_type": "code",
      "source": [
        ""
      ],
      "execution_count": 0,
      "outputs": []
    }
  ]
}